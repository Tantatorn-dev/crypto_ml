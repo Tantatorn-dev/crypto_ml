{
  "nbformat": 4,
  "nbformat_minor": 0,
  "metadata": {
    "colab": {
      "name": "cipher_text_challenge_kaggle.ipynb",
      "provenance": [],
      "collapsed_sections": [],
      "mount_file_id": "1uH-0zQwVhWxTfWQve79zJUd2Lt46zmvF",
      "authorship_tag": "ABX9TyNVzr5FID/pmH94B7JwBA3o",
      "include_colab_link": true
    },
    "kernelspec": {
      "name": "python3",
      "display_name": "Python 3"
    }
  },
  "cells": [
    {
      "cell_type": "markdown",
      "metadata": {
        "id": "view-in-github",
        "colab_type": "text"
      },
      "source": [
        "<a href=\"https://colab.research.google.com/github/Tantatorn-dev/crypto_ml/blob/main/cipher_text_challenge_kaggle.ipynb\" target=\"_parent\"><img src=\"https://colab.research.google.com/assets/colab-badge.svg\" alt=\"Open In Colab\"/></a>"
      ]
    },
    {
      "cell_type": "markdown",
      "metadata": {
        "id": "9WA_BbZtPtJn"
      },
      "source": [
        "# Dataset\n",
        "Download dataset from [Kaggle](https://www.kaggle.com/c/ciphertext-challenge-ii/). This dataset is about 186.71 MB."
      ]
    },
    {
      "cell_type": "code",
      "metadata": {
        "id": "zXB9QnJtO5fI"
      },
      "source": [
        "import os \n",
        "os.environ['KAGGLE_CONFIG_DIR'] = \"/content/drive/My Drive/Kaggle\""
      ],
      "execution_count": 1,
      "outputs": []
    },
    {
      "cell_type": "code",
      "metadata": {
        "id": "hMtJfAo0Qu5E",
        "outputId": "80aabb1b-5297-4c4d-9a39-37ccca63c05d",
        "colab": {
          "base_uri": "https://localhost:8080/"
        }
      },
      "source": [
        "%cd /content/drive/My Drive/Kaggle/cipher_text_challenge"
      ],
      "execution_count": 2,
      "outputs": [
        {
          "output_type": "stream",
          "text": [
            "/content/drive/My Drive/Kaggle/cipher_text_challenge\n"
          ],
          "name": "stdout"
        }
      ]
    },
    {
      "cell_type": "code",
      "metadata": {
        "id": "s-Lpf8MxRp21",
        "outputId": "45473874-a2e9-4ced-9b07-7a1d2828345e",
        "colab": {
          "base_uri": "https://localhost:8080/"
        }
      },
      "source": [
        "!kaggle competitions download -c ciphertext-challenge-ii"
      ],
      "execution_count": 3,
      "outputs": [
        {
          "output_type": "stream",
          "text": [
            "Warning: Looks like you're using an outdated API Version, please consider updating (server 1.5.9 / client 1.5.4)\n",
            "Downloading training.csv.zip to /content/drive/My Drive/Kaggle/cipher_text_challenge\n",
            " 67% 15.0M/22.4M [00:00<00:00, 14.4MB/s]\n",
            "100% 22.4M/22.4M [00:00<00:00, 35.3MB/s]\n",
            "Downloading sample_submission.csv to /content/drive/My Drive/Kaggle/cipher_text_challenge\n",
            "  0% 0.00/655k [00:00<?, ?B/s]\n",
            "100% 655k/655k [00:00<00:00, 42.6MB/s]\n",
            "Downloading test.csv.zip to /content/drive/My Drive/Kaggle/cipher_text_challenge\n",
            " 83% 57.0M/68.5M [00:02<00:00, 18.4MB/s]\n",
            "100% 68.5M/68.5M [00:02<00:00, 26.4MB/s]\n"
          ],
          "name": "stdout"
        }
      ]
    },
    {
      "cell_type": "code",
      "metadata": {
        "id": "0E0iRyAAR21y",
        "outputId": "ea36c01e-0582-42df-a942-8a57ade35ed1",
        "colab": {
          "base_uri": "https://localhost:8080/"
        }
      },
      "source": [
        "#unzipping the zip files and deleting the zip files\n",
        "!unzip \\*.zip  && rm *.zip"
      ],
      "execution_count": 4,
      "outputs": [
        {
          "output_type": "stream",
          "text": [
            "Archive:  training.csv.zip\n",
            "  inflating: training.csv            \n",
            "\n",
            "Archive:  test.csv.zip\n",
            "  inflating: test.csv                \n",
            "\n",
            "2 archives were successfully processed.\n"
          ],
          "name": "stdout"
        }
      ]
    },
    {
      "cell_type": "markdown",
      "metadata": {
        "id": "Hnb7mCfhSEww"
      },
      "source": [
        "# Exploratory Data Analysis\n",
        "มาดูกันข้อมูลของเราหน้าตาเป็นอย่างไร"
      ]
    },
    {
      "cell_type": "code",
      "metadata": {
        "id": "0kzCQ7KtR9Z5",
        "outputId": "c6bfee80-05c7-40a2-b7d1-632025801ccc",
        "colab": {
          "base_uri": "https://localhost:8080/"
        }
      },
      "source": [
        "os.listdir()"
      ],
      "execution_count": 5,
      "outputs": [
        {
          "output_type": "execute_result",
          "data": {
            "text/plain": [
              "['sample_submission.csv', 'training.csv', 'test.csv']"
            ]
          },
          "metadata": {
            "tags": []
          },
          "execution_count": 5
        }
      ]
    },
    {
      "cell_type": "code",
      "metadata": {
        "id": "VXVoYyqXYqRn",
        "outputId": "b3a3b8a6-c9bc-47e9-a166-9a4de846b707",
        "colab": {
          "base_uri": "https://localhost:8080/",
          "height": 206
        }
      },
      "source": [
        "import pandas as pd\n",
        "\n",
        "train_data = pd.read_csv('training.csv')\n",
        "train_data.head()"
      ],
      "execution_count": 8,
      "outputs": [
        {
          "output_type": "execute_result",
          "data": {
            "text/html": [
              "<div>\n",
              "<style scoped>\n",
              "    .dataframe tbody tr th:only-of-type {\n",
              "        vertical-align: middle;\n",
              "    }\n",
              "\n",
              "    .dataframe tbody tr th {\n",
              "        vertical-align: top;\n",
              "    }\n",
              "\n",
              "    .dataframe thead th {\n",
              "        text-align: right;\n",
              "    }\n",
              "</style>\n",
              "<table border=\"1\" class=\"dataframe\">\n",
              "  <thead>\n",
              "    <tr style=\"text-align: right;\">\n",
              "      <th></th>\n",
              "      <th>plaintext_id</th>\n",
              "      <th>text</th>\n",
              "      <th>index</th>\n",
              "    </tr>\n",
              "  </thead>\n",
              "  <tbody>\n",
              "    <tr>\n",
              "      <th>0</th>\n",
              "      <td>ID_2ed3c75e8</td>\n",
              "      <td>Saying Bambi 2 is better than the original is ...</td>\n",
              "      <td>1228</td>\n",
              "    </tr>\n",
              "    <tr>\n",
              "      <th>1</th>\n",
              "      <td>ID_d51637e35</td>\n",
              "      <td>I detest slapstick and even as a child I could...</td>\n",
              "      <td>22903</td>\n",
              "    </tr>\n",
              "    <tr>\n",
              "      <th>2</th>\n",
              "      <td>ID_096b6847e</td>\n",
              "      <td>If you want to see a movie about things that w...</td>\n",
              "      <td>44844</td>\n",
              "    </tr>\n",
              "    <tr>\n",
              "      <th>3</th>\n",
              "      <td>ID_3f2297975</td>\n",
              "      <td>The Flesh and the Fiends, also known as Mania,...</td>\n",
              "      <td>10556</td>\n",
              "    </tr>\n",
              "    <tr>\n",
              "      <th>4</th>\n",
              "      <td>ID_9431252bd</td>\n",
              "      <td>I am at a loss of words after watching this on...</td>\n",
              "      <td>18562</td>\n",
              "    </tr>\n",
              "  </tbody>\n",
              "</table>\n",
              "</div>"
            ],
            "text/plain": [
              "   plaintext_id                                               text  index\n",
              "0  ID_2ed3c75e8  Saying Bambi 2 is better than the original is ...   1228\n",
              "1  ID_d51637e35  I detest slapstick and even as a child I could...  22903\n",
              "2  ID_096b6847e  If you want to see a movie about things that w...  44844\n",
              "3  ID_3f2297975  The Flesh and the Fiends, also known as Mania,...  10556\n",
              "4  ID_9431252bd  I am at a loss of words after watching this on...  18562"
            ]
          },
          "metadata": {
            "tags": []
          },
          "execution_count": 8
        }
      ]
    },
    {
      "cell_type": "code",
      "metadata": {
        "id": "JBA47SPfSaSY",
        "outputId": "5d5aa954-14e5-4082-eb8a-b4e8bdfdfd41",
        "colab": {
          "base_uri": "https://localhost:8080/",
          "height": 206
        }
      },
      "source": [
        "test_data = pd.read_csv('test.csv')\n",
        "test_data.head()"
      ],
      "execution_count": 9,
      "outputs": [
        {
          "output_type": "execute_result",
          "data": {
            "text/html": [
              "<div>\n",
              "<style scoped>\n",
              "    .dataframe tbody tr th:only-of-type {\n",
              "        vertical-align: middle;\n",
              "    }\n",
              "\n",
              "    .dataframe tbody tr th {\n",
              "        vertical-align: top;\n",
              "    }\n",
              "\n",
              "    .dataframe thead th {\n",
              "        text-align: right;\n",
              "    }\n",
              "</style>\n",
              "<table border=\"1\" class=\"dataframe\">\n",
              "  <thead>\n",
              "    <tr style=\"text-align: right;\">\n",
              "      <th></th>\n",
              "      <th>ciphertext_id</th>\n",
              "      <th>ciphertext</th>\n",
              "      <th>difficulty</th>\n",
              "    </tr>\n",
              "  </thead>\n",
              "  <tbody>\n",
              "    <tr>\n",
              "      <th>0</th>\n",
              "      <td>ID_4664ddd2f</td>\n",
              "      <td>780 538832 266403 380102 515387 156801 300516 ...</td>\n",
              "      <td>4</td>\n",
              "    </tr>\n",
              "    <tr>\n",
              "      <th>1</th>\n",
              "      <td>ID_d382d6a99</td>\n",
              "      <td>4V,[[p[z7=b777!z7}77psl777zbJlbQ7Smm4niTDlU[2l...</td>\n",
              "      <td>3</td>\n",
              "    </tr>\n",
              "    <tr>\n",
              "      <th>2</th>\n",
              "      <td>ID_f6479f2ee</td>\n",
              "      <td>}8E U%Weuoc1'8fdsc.:L5DTtKii2RMDV6VpnST264P:[m...</td>\n",
              "      <td>1</td>\n",
              "    </tr>\n",
              "    <tr>\n",
              "      <th>3</th>\n",
              "      <td>ID_8e74e7aa9</td>\n",
              "      <td>551242 107638 511349 230559 411 545081 359978 ...</td>\n",
              "      <td>4</td>\n",
              "    </tr>\n",
              "    <tr>\n",
              "      <th>4</th>\n",
              "      <td>ID_20187e596</td>\n",
              "      <td>N*VV$-C${E$?H=103EH1a7Ov#l=7Gv#l7!o72l#lQ7o!Ol...</td>\n",
              "      <td>1</td>\n",
              "    </tr>\n",
              "  </tbody>\n",
              "</table>\n",
              "</div>"
            ],
            "text/plain": [
              "  ciphertext_id                                         ciphertext  difficulty\n",
              "0  ID_4664ddd2f  780 538832 266403 380102 515387 156801 300516 ...           4\n",
              "1  ID_d382d6a99  4V,[[p[z7=b777!z7}77psl777zbJlbQ7Smm4niTDlU[2l...           3\n",
              "2  ID_f6479f2ee  }8E U%Weuoc1'8fdsc.:L5DTtKii2RMDV6VpnST264P:[m...           1\n",
              "3  ID_8e74e7aa9  551242 107638 511349 230559 411 545081 359978 ...           4\n",
              "4  ID_20187e596  N*VV$-C${E$?H=103EH1a7Ov#l=7Gv#l7!o72l#lQ7o!Ol...           1"
            ]
          },
          "metadata": {
            "tags": []
          },
          "execution_count": 9
        }
      ]
    }
  ]
}