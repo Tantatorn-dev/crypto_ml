{
  "nbformat": 4,
  "nbformat_minor": 0,
  "metadata": {
    "colab": {
      "name": "cipher_classification_svm.ipynb",
      "provenance": [],
      "collapsed_sections": [],
      "toc_visible": true,
      "mount_file_id": "1gth4bCsMvs4dUqKxg8-B-T6UQ2ffVrHl",
      "authorship_tag": "ABX9TyPLECVtaJY0R99X/c9XndNz",
      "include_colab_link": true
    },
    "kernelspec": {
      "name": "python3",
      "display_name": "Python 3"
    }
  },
  "cells": [
    {
      "cell_type": "markdown",
      "metadata": {
        "id": "view-in-github",
        "colab_type": "text"
      },
      "source": [
        "<a href=\"https://colab.research.google.com/github/Tantatorn-dev/crypto_ml/blob/main/cipher_classification_svm.ipynb\" target=\"_parent\"><img src=\"https://colab.research.google.com/assets/colab-badge.svg\" alt=\"Open In Colab\"/></a>"
      ]
    },
    {
      "cell_type": "markdown",
      "metadata": {
        "id": "kb6g7r5t1X7_"
      },
      "source": [
        "# Dataset Preparation\n",
        "use our generated dataset."
      ]
    },
    {
      "cell_type": "markdown",
      "metadata": {
        "id": "6rSrFar56D8u"
      },
      "source": [
        "## Load Dataset"
      ]
    },
    {
      "cell_type": "code",
      "metadata": {
        "id": "wVAEjxLWxNVQ",
        "outputId": "1418863b-a0bd-4d50-ab5c-34ee4fb196fe",
        "colab": {
          "base_uri": "https://localhost:8080/"
        }
      },
      "source": [
        "# load dataset from Google Drive\n",
        "# change directory\n",
        "%cd /content/drive/My Drive/Kaggle/cipher_text_challenge"
      ],
      "execution_count": null,
      "outputs": [
        {
          "output_type": "stream",
          "text": [
            "/content/drive/My Drive/Kaggle/cipher_text_challenge\n"
          ],
          "name": "stdout"
        }
      ]
    },
    {
      "cell_type": "code",
      "metadata": {
        "id": "YZawJ5Kp569i",
        "outputId": "38d630a5-90ea-4431-d74d-e6ad4688c414",
        "colab": {
          "base_uri": "https://localhost:8080/"
        }
      },
      "source": [
        "%ls"
      ],
      "execution_count": null,
      "outputs": [
        {
          "output_type": "stream",
          "text": [
            "classic_cipher_dataset.csv  training.csv\n"
          ],
          "name": "stdout"
        }
      ]
    },
    {
      "cell_type": "code",
      "metadata": {
        "id": "LEutYLZv58tU",
        "outputId": "ec1ff9eb-83db-4e00-e869-1684527d0dd6",
        "colab": {
          "base_uri": "https://localhost:8080/",
          "height": 424
        }
      },
      "source": [
        "import pandas as pd\n",
        "\n",
        "df = pd.read_csv(\"classic_cipher_dataset.csv\")\n",
        "df"
      ],
      "execution_count": null,
      "outputs": [
        {
          "output_type": "execute_result",
          "data": {
            "text/html": [
              "<div>\n",
              "<style scoped>\n",
              "    .dataframe tbody tr th:only-of-type {\n",
              "        vertical-align: middle;\n",
              "    }\n",
              "\n",
              "    .dataframe tbody tr th {\n",
              "        vertical-align: top;\n",
              "    }\n",
              "\n",
              "    .dataframe thead th {\n",
              "        text-align: right;\n",
              "    }\n",
              "</style>\n",
              "<table border=\"1\" class=\"dataframe\">\n",
              "  <thead>\n",
              "    <tr style=\"text-align: right;\">\n",
              "      <th></th>\n",
              "      <th>plaintext</th>\n",
              "      <th>cipher</th>\n",
              "      <th>class</th>\n",
              "    </tr>\n",
              "  </thead>\n",
              "  <tbody>\n",
              "    <tr>\n",
              "      <th>0</th>\n",
              "      <td>IFYOUENJOYACTIONORIENTEDPERIODFILMSANDYOUARENT...</td>\n",
              "      <td>HQVTFPZKTVLOUHTZTCHPZUPYEPCHTYQHMDWLZYVTFLCPZU...</td>\n",
              "      <td>0</td>\n",
              "    </tr>\n",
              "    <tr>\n",
              "      <th>1</th>\n",
              "      <td>FORMETHISISTHEBESTROLEOFHACKMANSCAREERANDONEOF...</td>\n",
              "      <td>LAWIYJHKPKPJHYMYPJWAUYALHCVDICQPVCWYYWCQSAQYAL...</td>\n",
              "      <td>0</td>\n",
              "    </tr>\n",
              "    <tr>\n",
              "      <th>2</th>\n",
              "      <td>THISMOVIEWASPRETTYDARNAWFULBROOKESHIELDSACTING...</td>\n",
              "      <td>QIRZFGARPVLZTEPQQNJLEDLVHSKOEGGCPZIRPKJZLMQRDB...</td>\n",
              "      <td>0</td>\n",
              "    </tr>\n",
              "    <tr>\n",
              "      <th>3</th>\n",
              "      <td>GIRLSHYFINDSHAROLDLLOYDEXACTLYTHATAPOORKIDWHOW...</td>\n",
              "      <td>ERPILQKARZFLQYPVIFIIVKFDCYJGIKGQYGYBVVPXRFSQVS...</td>\n",
              "      <td>0</td>\n",
              "    </tr>\n",
              "    <tr>\n",
              "      <th>4</th>\n",
              "      <td>INAYEARTHATGAVEUSFORRESTGUMPPULPFICTIONANDTHES...</td>\n",
              "      <td>SJFHVFPOUFOMFBVWIQKPPVIOMWGYYWEYQSDOSKJFJTOUVI...</td>\n",
              "      <td>0</td>\n",
              "    </tr>\n",
              "    <tr>\n",
              "      <th>...</th>\n",
              "      <td>...</td>\n",
              "      <td>...</td>\n",
              "      <td>...</td>\n",
              "    </tr>\n",
              "    <tr>\n",
              "      <th>44677</th>\n",
              "      <td>WHENIHADFIRSTHEARDABOUTTHISMOVIEAROUNDABOUTLAS...</td>\n",
              "      <td>YFGKEILBGESTYOFBUALAPTSYYOGUNPZEFBTMSPBLCKQUCL...</td>\n",
              "      <td>3</td>\n",
              "    </tr>\n",
              "    <tr>\n",
              "      <th>44678</th>\n",
              "      <td>TWOQUESTIONSARISEWHENWATCHINGAFILMMIXINGTHESEG...</td>\n",
              "      <td>RYKTQITUHPSXFWGUFVIFMXCRHOGPFLGEANPFZGSNYOGQFH...</td>\n",
              "      <td>3</td>\n",
              "    </tr>\n",
              "    <tr>\n",
              "      <th>44679</th>\n",
              "      <td>THISISNOTAMOVIEFOREVERYONEESPECIALLYWITHTHEPRO...</td>\n",
              "      <td>YOGUGUOPRCNPZEFGMTKBFQCTKGGQKIDHLCCXZFYOYOIKTM...</td>\n",
              "      <td>3</td>\n",
              "    </tr>\n",
              "    <tr>\n",
              "      <th>44680</th>\n",
              "      <td>INTRIGINGLYCONVOLUTEDANDHAUNTINGLYREFRESHINGTH...</td>\n",
              "      <td>GPUSEHGPNGCHPOYKDSQHBLPLFCSPUHSNCXQFMWGQIESNYO...</td>\n",
              "      <td>3</td>\n",
              "    </tr>\n",
              "    <tr>\n",
              "      <th>44681</th>\n",
              "      <td>LOVEMEORLEAVEMEISNOTYOURTYPICALMUSICALTHATISNO...</td>\n",
              "      <td>CNBKKFMTBGBWFKFEXSTYCTQSYCUPDLANQTHDLCYOCRGUOP...</td>\n",
              "      <td>3</td>\n",
              "    </tr>\n",
              "  </tbody>\n",
              "</table>\n",
              "<p>44682 rows × 3 columns</p>\n",
              "</div>"
            ],
            "text/plain": [
              "                                               plaintext  ... class\n",
              "0      IFYOUENJOYACTIONORIENTEDPERIODFILMSANDYOUARENT...  ...     0\n",
              "1      FORMETHISISTHEBESTROLEOFHACKMANSCAREERANDONEOF...  ...     0\n",
              "2      THISMOVIEWASPRETTYDARNAWFULBROOKESHIELDSACTING...  ...     0\n",
              "3      GIRLSHYFINDSHAROLDLLOYDEXACTLYTHATAPOORKIDWHOW...  ...     0\n",
              "4      INAYEARTHATGAVEUSFORRESTGUMPPULPFICTIONANDTHES...  ...     0\n",
              "...                                                  ...  ...   ...\n",
              "44677  WHENIHADFIRSTHEARDABOUTTHISMOVIEAROUNDABOUTLAS...  ...     3\n",
              "44678  TWOQUESTIONSARISEWHENWATCHINGAFILMMIXINGTHESEG...  ...     3\n",
              "44679  THISISNOTAMOVIEFOREVERYONEESPECIALLYWITHTHEPRO...  ...     3\n",
              "44680  INTRIGINGLYCONVOLUTEDANDHAUNTINGLYREFRESHINGTH...  ...     3\n",
              "44681  LOVEMEORLEAVEMEISNOTYOURTYPICALMUSICALTHATISNO...  ...     3\n",
              "\n",
              "[44682 rows x 3 columns]"
            ]
          },
          "metadata": {
            "tags": []
          },
          "execution_count": 3
        }
      ]
    },
    {
      "cell_type": "markdown",
      "metadata": {
        "id": "PdokIj31754R"
      },
      "source": [
        "## Map characters to numbers"
      ]
    },
    {
      "cell_type": "code",
      "metadata": {
        "id": "yfL4onGg6M-Q"
      },
      "source": [
        "def map_char_to_num(text):\n",
        "  arr = []\n",
        "  for i in text:\n",
        "    arr.append(ord(i)-ord('A'))\n",
        "  return arr\n",
        "\n",
        "df[\"plaintext\"] = df[\"plaintext\"].map(map_char_to_num)\n",
        "df[\"cipher\"] = df[\"cipher\"].map(map_char_to_num)"
      ],
      "execution_count": null,
      "outputs": []
    },
    {
      "cell_type": "code",
      "metadata": {
        "id": "xwwwwxunF8QM",
        "outputId": "2b6098b5-b367-4326-92af-920bcdd6dbde",
        "colab": {
          "base_uri": "https://localhost:8080/",
          "height": 206
        }
      },
      "source": [
        "df.head()"
      ],
      "execution_count": null,
      "outputs": [
        {
          "output_type": "execute_result",
          "data": {
            "text/html": [
              "<div>\n",
              "<style scoped>\n",
              "    .dataframe tbody tr th:only-of-type {\n",
              "        vertical-align: middle;\n",
              "    }\n",
              "\n",
              "    .dataframe tbody tr th {\n",
              "        vertical-align: top;\n",
              "    }\n",
              "\n",
              "    .dataframe thead th {\n",
              "        text-align: right;\n",
              "    }\n",
              "</style>\n",
              "<table border=\"1\" class=\"dataframe\">\n",
              "  <thead>\n",
              "    <tr style=\"text-align: right;\">\n",
              "      <th></th>\n",
              "      <th>plaintext</th>\n",
              "      <th>cipher</th>\n",
              "      <th>class</th>\n",
              "    </tr>\n",
              "  </thead>\n",
              "  <tbody>\n",
              "    <tr>\n",
              "      <th>0</th>\n",
              "      <td>[8, 5, 24, 14, 20, 4, 13, 9, 14, 24, 0, 2, 19,...</td>\n",
              "      <td>[7, 16, 21, 19, 5, 15, 25, 10, 19, 21, 11, 14,...</td>\n",
              "      <td>0</td>\n",
              "    </tr>\n",
              "    <tr>\n",
              "      <th>1</th>\n",
              "      <td>[5, 14, 17, 12, 4, 19, 7, 8, 18, 8, 18, 19, 7,...</td>\n",
              "      <td>[11, 0, 22, 8, 24, 9, 7, 10, 15, 10, 15, 9, 7,...</td>\n",
              "      <td>0</td>\n",
              "    </tr>\n",
              "    <tr>\n",
              "      <th>2</th>\n",
              "      <td>[19, 7, 8, 18, 12, 14, 21, 8, 4, 22, 0, 18, 15...</td>\n",
              "      <td>[16, 8, 17, 25, 5, 6, 0, 17, 15, 21, 11, 25, 1...</td>\n",
              "      <td>0</td>\n",
              "    </tr>\n",
              "    <tr>\n",
              "      <th>3</th>\n",
              "      <td>[6, 8, 17, 11, 18, 7, 24, 5, 8, 13, 3, 18, 7, ...</td>\n",
              "      <td>[4, 17, 15, 8, 11, 16, 10, 0, 17, 25, 5, 11, 1...</td>\n",
              "      <td>0</td>\n",
              "    </tr>\n",
              "    <tr>\n",
              "      <th>4</th>\n",
              "      <td>[8, 13, 0, 24, 4, 0, 17, 19, 7, 0, 19, 6, 0, 2...</td>\n",
              "      <td>[18, 9, 5, 7, 21, 5, 15, 14, 20, 5, 14, 12, 5,...</td>\n",
              "      <td>0</td>\n",
              "    </tr>\n",
              "  </tbody>\n",
              "</table>\n",
              "</div>"
            ],
            "text/plain": [
              "                                           plaintext  ... class\n",
              "0  [8, 5, 24, 14, 20, 4, 13, 9, 14, 24, 0, 2, 19,...  ...     0\n",
              "1  [5, 14, 17, 12, 4, 19, 7, 8, 18, 8, 18, 19, 7,...  ...     0\n",
              "2  [19, 7, 8, 18, 12, 14, 21, 8, 4, 22, 0, 18, 15...  ...     0\n",
              "3  [6, 8, 17, 11, 18, 7, 24, 5, 8, 13, 3, 18, 7, ...  ...     0\n",
              "4  [8, 13, 0, 24, 4, 0, 17, 19, 7, 0, 19, 6, 0, 2...  ...     0\n",
              "\n",
              "[5 rows x 3 columns]"
            ]
          },
          "metadata": {
            "tags": []
          },
          "execution_count": 5
        }
      ]
    },
    {
      "cell_type": "markdown",
      "metadata": {
        "id": "Z6X9xNRmIIcR"
      },
      "source": [
        "Now our data is ready for our prediction models"
      ]
    },
    {
      "cell_type": "markdown",
      "metadata": {
        "id": "s-TOmSreadYh"
      },
      "source": [
        "# Exploratory Data Analysis\n"
      ]
    },
    {
      "cell_type": "code",
      "metadata": {
        "id": "0NvlDc-BacIs",
        "outputId": "54b2344e-a459-48af-e16b-201cec455b3d",
        "colab": {
          "base_uri": "https://localhost:8080/"
        }
      },
      "source": [
        "# check max length and min length of cipher\n",
        "length = df['cipher'].map(len)\n",
        "length.describe()"
      ],
      "execution_count": null,
      "outputs": [
        {
          "output_type": "execute_result",
          "data": {
            "text/plain": [
              "count    44682.000000\n",
              "mean       972.600801\n",
              "std        722.339348\n",
              "min         30.000000\n",
              "25%        538.000000\n",
              "50%        732.000000\n",
              "75%       1171.000000\n",
              "max      11089.000000\n",
              "Name: cipher, dtype: float64"
            ]
          },
          "metadata": {
            "tags": []
          },
          "execution_count": 6
        }
      ]
    },
    {
      "cell_type": "markdown",
      "metadata": {
        "id": "kNkKqYZPJ02X"
      },
      "source": [
        "# Model\n",
        "We'll use SVM to predict the types of cipher. We've cipher column as a feature and class column as a label."
      ]
    },
    {
      "cell_type": "code",
      "metadata": {
        "id": "OGPMUOaNIGeF",
        "outputId": "daf149df-aa0d-4e7e-fc71-386bb8604f15",
        "colab": {
          "base_uri": "https://localhost:8080/"
        }
      },
      "source": [
        "df['length'] = df['cipher'].apply(len)\n",
        "df['length']"
      ],
      "execution_count": null,
      "outputs": [
        {
          "output_type": "execute_result",
          "data": {
            "text/plain": [
              "0        1585\n",
              "1        1641\n",
              "2        1069\n",
              "3        1483\n",
              "4        1254\n",
              "         ... \n",
              "44677    2416\n",
              "44678     708\n",
              "44679     588\n",
              "44680     506\n",
              "44681    1096\n",
              "Name: length, Length: 44682, dtype: int64"
            ]
          },
          "metadata": {
            "tags": []
          },
          "execution_count": 7
        }
      ]
    },
    {
      "cell_type": "markdown",
      "metadata": {
        "id": "n1dMEJYRvA6V"
      },
      "source": [
        "## Length 100 Ciphertext"
      ]
    },
    {
      "cell_type": "code",
      "metadata": {
        "id": "izD-HzaV3WOv"
      },
      "source": [
        "import random\n",
        "\n",
        "# filter only ciphertext with length >= 100\n",
        "desired_length = 100\n",
        "desired_dataset_size = 10000\n",
        "\n",
        "data = df[df['length']>=desired_length]\n",
        "\n",
        "data = data.sample(frac=1)\n",
        "\n",
        "feature = data['cipher']\n",
        "label = data['class']"
      ],
      "execution_count": null,
      "outputs": []
    },
    {
      "cell_type": "code",
      "metadata": {
        "id": "EXIhk_P4p7in"
      },
      "source": [
        "# cut feature to desired length\n",
        "def cut_to_length_n(vectors, n):\n",
        "  new_vectors = []\n",
        "  for vector in vectors:\n",
        "    new_vectors.append(vector[0:n])\n",
        "  return new_vectors"
      ],
      "execution_count": null,
      "outputs": []
    },
    {
      "cell_type": "code",
      "metadata": {
        "id": "M7Lbx9ztmyFI"
      },
      "source": [
        "feature = cut_to_length_n(feature, desired_length)"
      ],
      "execution_count": null,
      "outputs": []
    },
    {
      "cell_type": "code",
      "metadata": {
        "id": "qZ-uFLBuepvd"
      },
      "source": [
        "# train test split\n",
        "from sklearn.model_selection import train_test_split\n",
        "\n",
        "# we need only 1000 ciphertexts for our model according to the paper\n",
        "feature = feature[0:desired_dataset_size]\n",
        "label = label[0:desired_dataset_size]\n",
        "\n",
        "feature_train, feature_test, label_train, label_test = train_test_split( feature, label, test_size=0.2, random_state=42)\n"
      ],
      "execution_count": null,
      "outputs": []
    },
    {
      "cell_type": "code",
      "metadata": {
        "id": "DzqkrBv8KRcM",
        "outputId": "9ed99209-105f-48dd-d7e7-725c28be646a",
        "colab": {
          "base_uri": "https://localhost:8080/"
        }
      },
      "source": [
        "from sklearn import svm\n",
        "import numpy as np\n",
        "\n",
        "classifier = svm.SVC(kernel='rbf')\n",
        "\n",
        "classifier.fit(feature_train, label_train)"
      ],
      "execution_count": null,
      "outputs": [
        {
          "output_type": "execute_result",
          "data": {
            "text/plain": [
              "SVC(C=1.0, break_ties=False, cache_size=200, class_weight=None, coef0=0.0,\n",
              "    decision_function_shape='ovr', degree=3, gamma='scale', kernel='rbf',\n",
              "    max_iter=-1, probability=False, random_state=None, shrinking=True,\n",
              "    tol=0.001, verbose=False)"
            ]
          },
          "metadata": {
            "tags": []
          },
          "execution_count": 70
        }
      ]
    },
    {
      "cell_type": "code",
      "metadata": {
        "id": "MgNz4FZ0m71B"
      },
      "source": [
        "label_pred = classifier.predict(feature_test)"
      ],
      "execution_count": null,
      "outputs": []
    },
    {
      "cell_type": "code",
      "metadata": {
        "id": "oyzxHOXUlZeR",
        "outputId": "70c3b49d-e1da-4ce1-f31d-e5ea12424135",
        "colab": {
          "base_uri": "https://localhost:8080/"
        }
      },
      "source": [
        "# evaluation \n",
        "from sklearn.metrics import accuracy_score\n",
        "\n",
        "# see how well our model perform\n",
        "accuracy_score(label_pred, label_test)"
      ],
      "execution_count": null,
      "outputs": [
        {
          "output_type": "execute_result",
          "data": {
            "text/plain": [
              "0.613"
            ]
          },
          "metadata": {
            "tags": []
          },
          "execution_count": 72
        }
      ]
    },
    {
      "cell_type": "code",
      "metadata": {
        "id": "3W78mUu3p1D4",
        "outputId": "d44c0ced-c3fc-4838-afd2-b24f3a1b0ae2",
        "colab": {
          "base_uri": "https://localhost:8080/",
          "height": 475
        }
      },
      "source": [
        "# confusion matrix\n",
        "import seaborn as sn\n",
        "import matplotlib.pyplot as plt\n",
        "from sklearn.metrics import confusion_matrix\n",
        "\n",
        "data = confusion_matrix(label_test, label_pred)\n",
        "df_cm = pd.DataFrame(data, columns=np.unique(label_100_test), index = np.unique(label_100_test))\n",
        "df_cm.index.name = 'Actual'\n",
        "df_cm.columns.name = 'Predicted'\n",
        "plt.figure(figsize = (10,7))\n",
        "sn.set(font_scale=1.4)#for label size\n",
        "sn.heatmap(df_cm, cmap=\"Blues\", annot=True,annot_kws={\"size\": 16})# font size"
      ],
      "execution_count": null,
      "outputs": [
        {
          "output_type": "execute_result",
          "data": {
            "text/plain": [
              "<matplotlib.axes._subplots.AxesSubplot at 0x7f9c81b8dc50>"
            ]
          },
          "metadata": {
            "tags": []
          },
          "execution_count": 73
        },
        {
          "output_type": "display_data",
          "data": {
            "image/png": "[encoded data removed]",
            "text/plain": [
              "<Figure size 720x504 with 2 Axes>"
            ]
          },
          "metadata": {
            "tags": []
          }
        }
      ]
    },
    {
      "cell_type": "markdown",
      "metadata": {
        "id": "Tt3fZNmW7z_y"
      },
      "source": [
        "## Length 200 Ciphertext\n"
      ]
    },
    {
      "cell_type": "code",
      "metadata": {
        "id": "9bS5PdGHmtbp"
      },
      "source": [
        "# filter only ciphertext with length >= 100\n",
        "desired_length = 200\n",
        "\n",
        "data = df[df['length']>=desired_length]\n",
        "\n",
        "data = data.sample(frac=1)\n",
        "\n",
        "feature = data['cipher']\n",
        "label = data['class']\n",
        "\n",
        "feature = cut_to_length_n(feature, desired_length)"
      ],
      "execution_count": null,
      "outputs": []
    },
    {
      "cell_type": "code",
      "metadata": {
        "id": "vPSrhb4_ws9S"
      },
      "source": [
        "# we need only 1000 ciphertexts for our model according to the paper\n",
        "feature = feature[0:desired_dataset_size]\n",
        "label = label[0:desired_dataset_size]\n",
        "\n",
        "feature_train, feature_test, label_train, label_test = train_test_split( feature, label, test_size=0.2, random_state=42)"
      ],
      "execution_count": null,
      "outputs": []
    },
    {
      "cell_type": "code",
      "metadata": {
        "id": "z8E1Q2FzwzTQ"
      },
      "source": [
        "classifier = svm.SVC(kernel='rbf')\n",
        "\n",
        "classifier.fit(feature_train, label_train)\n",
        "\n",
        "label_pred = classifier.predict(feature_test)"
      ],
      "execution_count": null,
      "outputs": []
    },
    {
      "cell_type": "code",
      "metadata": {
        "id": "xcJ7oEjgw_Iw",
        "outputId": "a09f329c-50a1-4241-b988-624f2a775713",
        "colab": {
          "base_uri": "https://localhost:8080/"
        }
      },
      "source": [
        "# see how well our model perform\n",
        "accuracy_score(label_pred, label_test)"
      ],
      "execution_count": null,
      "outputs": [
        {
          "output_type": "execute_result",
          "data": {
            "text/plain": [
              "0.6935"
            ]
          },
          "metadata": {
            "tags": []
          },
          "execution_count": 77
        }
      ]
    },
    {
      "cell_type": "code",
      "metadata": {
        "id": "DS-MHbkMxG9f",
        "outputId": "668a03c5-c1b1-4fef-9082-5dff326ff4b0",
        "colab": {
          "base_uri": "https://localhost:8080/",
          "height": 475
        }
      },
      "source": [
        "# confusion matrix\n",
        "data = confusion_matrix(label_test, label_pred)\n",
        "df_cm = pd.DataFrame(data, columns=np.unique(label_100_test), index = np.unique(label_100_test))\n",
        "df_cm.index.name = 'Actual'\n",
        "df_cm.columns.name = 'Predicted'\n",
        "plt.figure(figsize = (10,7))\n",
        "sn.set(font_scale=1.4)#for label size\n",
        "sn.heatmap(df_cm, cmap=\"Blues\", annot=True,annot_kws={\"size\": 16})# font size"
      ],
      "execution_count": null,
      "outputs": [
        {
          "output_type": "execute_result",
          "data": {
            "text/plain": [
              "<matplotlib.axes._subplots.AxesSubplot at 0x7f9c81ba3cc0>"
            ]
          },
          "metadata": {
            "tags": []
          },
          "execution_count": 78
        },
        {
          "output_type": "display_data",
          "data": {
            "image/png": "[encoded data removed]",
            "text/plain": [
              "<Figure size 720x504 with 2 Axes>"
            ]
          },
          "metadata": {
            "tags": []
          }
        }
      ]
    },
    {
      "cell_type": "markdown",
      "metadata": {
        "id": "tBAu_fppxR5i"
      },
      "source": [
        "## Length 400 Ciphertext\n"
      ]
    },
    {
      "cell_type": "code",
      "metadata": {
        "id": "h_J5rjSDxPpA"
      },
      "source": [
        "# filter only ciphertext with length >= 100\n",
        "desired_length = 400\n",
        "\n",
        "data = df[df['length']>=desired_length]\n",
        "\n",
        "data = data.sample(frac=1)\n",
        "\n",
        "feature = data['cipher']\n",
        "label = data['class']\n",
        "\n",
        "feature = cut_to_length_n(feature, desired_length)"
      ],
      "execution_count": null,
      "outputs": []
    },
    {
      "cell_type": "code",
      "metadata": {
        "id": "pvVRH3VKxt05"
      },
      "source": [
        "# we need only 1000 ciphertexts for our model according to the paper\n",
        "feature = feature[0:desired_dataset_size]\n",
        "label = label[0:desired_dataset_size]\n",
        "\n",
        "feature_train, feature_test, label_train, label_test = train_test_split( feature, label, test_size=0.2, random_state=42)"
      ],
      "execution_count": null,
      "outputs": []
    },
    {
      "cell_type": "code",
      "metadata": {
        "id": "2Uy8Se4Ix2Rz"
      },
      "source": [
        "classifier = svm.SVC(kernel='rbf')\n",
        "\n",
        "classifier.fit(feature_train, label_train)\n",
        "\n",
        "label_pred = classifier.predict(feature_test)"
      ],
      "execution_count": null,
      "outputs": []
    },
    {
      "cell_type": "code",
      "metadata": {
        "id": "7773Pe87x8w1",
        "outputId": "456ea949-5601-4f20-965a-63b548578326",
        "colab": {
          "base_uri": "https://localhost:8080/"
        }
      },
      "source": [
        "# see how well our model perform\n",
        "accuracy_score(label_pred, label_test)"
      ],
      "execution_count": null,
      "outputs": [
        {
          "output_type": "execute_result",
          "data": {
            "text/plain": [
              "0.7695"
            ]
          },
          "metadata": {
            "tags": []
          },
          "execution_count": 82
        }
      ]
    },
    {
      "cell_type": "code",
      "metadata": {
        "id": "yR2HA828yCMF",
        "outputId": "be10f5e2-1997-4a29-9370-6e0d297ef23a",
        "colab": {
          "base_uri": "https://localhost:8080/",
          "height": 475
        }
      },
      "source": [
        "# confusion matrix\n",
        "data = confusion_matrix(label_test, label_pred)\n",
        "df_cm = pd.DataFrame(data, columns=np.unique(label_100_test), index = np.unique(label_100_test))\n",
        "df_cm.index.name = 'Actual'\n",
        "df_cm.columns.name = 'Predicted'\n",
        "plt.figure(figsize = (10,7))\n",
        "sn.set(font_scale=1.4)#for label size\n",
        "sn.heatmap(df_cm, cmap=\"Blues\", annot=True,annot_kws={\"size\": 16})# font size"
      ],
      "execution_count": null,
      "outputs": [
        {
          "output_type": "execute_result",
          "data": {
            "text/plain": [
              "<matplotlib.axes._subplots.AxesSubplot at 0x7f9c817eb160>"
            ]
          },
          "metadata": {
            "tags": []
          },
          "execution_count": 83
        },
        {
          "output_type": "display_data",
          "data": {
            "image/png": "[encoded data removed]",
            "text/plain": [
              "<Figure size 720x504 with 2 Axes>"
            ]
          },
          "metadata": {
            "tags": []
          }
        }
      ]
    },
    {
      "cell_type": "markdown",
      "metadata": {
        "id": "GdGjYPc6yLSz"
      },
      "source": [
        "## Length 1000 Ciphertext"
      ]
    },
    {
      "cell_type": "code",
      "metadata": {
        "id": "9NZ9vDqTyG1O"
      },
      "source": [
        "# filter only ciphertext with length >= 100\n",
        "desired_length = 1000\n",
        "\n",
        "data = df[df['length']>=desired_length]\n",
        "\n",
        "data = data.sample(frac=1)\n",
        "\n",
        "feature = data['cipher']\n",
        "label = data['class']\n",
        "\n",
        "feature = cut_to_length_n(feature, desired_length)"
      ],
      "execution_count": null,
      "outputs": []
    },
    {
      "cell_type": "code",
      "metadata": {
        "id": "2PcgE6GzzMtu"
      },
      "source": [
        "# we need only 1000 ciphertexts for our model according to the paper\n",
        "feature = feature[0:desired_dataset_size]\n",
        "label = label[0:desired_dataset_size]\n",
        "\n",
        "feature_train, feature_test, label_train, label_test = train_test_split( feature, label, test_size=0.2, random_state=42)"
      ],
      "execution_count": null,
      "outputs": []
    },
    {
      "cell_type": "code",
      "metadata": {
        "id": "px8XnbgIzPji"
      },
      "source": [
        "classifier = svm.SVC(kernel='rbf')\n",
        "\n",
        "classifier.fit(feature_train, label_train)\n",
        "\n",
        "label_pred = classifier.predict(feature_test)"
      ],
      "execution_count": null,
      "outputs": []
    },
    {
      "cell_type": "code",
      "metadata": {
        "id": "NJfZXir-zR4U",
        "outputId": "616fc300-ae24-45d2-a745-3ad3e0c8c7a5",
        "colab": {
          "base_uri": "https://localhost:8080/"
        }
      },
      "source": [
        "# see how well our model perform\n",
        "accuracy_score(label_pred, label_test)"
      ],
      "execution_count": null,
      "outputs": [
        {
          "output_type": "execute_result",
          "data": {
            "text/plain": [
              "0.857"
            ]
          },
          "metadata": {
            "tags": []
          },
          "execution_count": 87
        }
      ]
    },
    {
      "cell_type": "code",
      "metadata": {
        "id": "HzPgywDHzUfb",
        "outputId": "ee3467e2-84e2-4257-9883-5f29438169b9",
        "colab": {
          "base_uri": "https://localhost:8080/",
          "height": 475
        }
      },
      "source": [
        "# confusion matrix\n",
        "data = confusion_matrix(label_test, label_pred)\n",
        "df_cm = pd.DataFrame(data, columns=np.unique(label_100_test), index = np.unique(label_100_test))\n",
        "df_cm.index.name = 'Actual'\n",
        "df_cm.columns.name = 'Predicted'\n",
        "plt.figure(figsize = (10,7))\n",
        "sn.set(font_scale=1.4)#for label size\n",
        "sn.heatmap(df_cm, cmap=\"Blues\", annot=True,annot_kws={\"size\": 16})# font size"
      ],
      "execution_count": null,
      "outputs": [
        {
          "output_type": "execute_result",
          "data": {
            "text/plain": [
              "<matplotlib.axes._subplots.AxesSubplot at 0x7f9c814db588>"
            ]
          },
          "metadata": {
            "tags": []
          },
          "execution_count": 88
        },
        {
          "output_type": "display_data",
          "data": {
            "image/png": "[encoded data removed]",
            "text/plain": [
              "<Figure size 720x504 with 2 Axes>"
            ]
          },
          "metadata": {
            "tags": []
          }
        }
      ]
    }
  ]
}