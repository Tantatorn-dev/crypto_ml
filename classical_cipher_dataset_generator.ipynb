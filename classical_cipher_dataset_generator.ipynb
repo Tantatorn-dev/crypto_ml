{
  "nbformat": 4,
  "nbformat_minor": 0,
  "metadata": {
    "colab": {
      "name": "classical_cipher_dataset_generator.ipynb",
      "provenance": [],
      "collapsed_sections": [],
      "toc_visible": true,
      "mount_file_id": "1mJ1AaKihtLZtTk6BFx8PAXROaskCsoVe",
      "authorship_tag": "ABX9TyPatKkkT0lhzRObjV9ZRM/q",
      "include_colab_link": true
    },
    "kernelspec": {
      "name": "python3",
      "display_name": "Python 3"
    }
  },
  "cells": [
    {
      "cell_type": "markdown",
      "metadata": {
        "id": "view-in-github",
        "colab_type": "text"
      },
      "source": [
        "<a href=\"https://colab.research.google.com/github/Tantatorn-dev/crypto_ml/blob/main/classical_cipher_dataset_generator.ipynb\" target=\"_parent\"><img src=\"https://colab.research.google.com/assets/colab-badge.svg\" alt=\"Open In Colab\"/></a>"
      ]
    },
    {
      "cell_type": "markdown",
      "metadata": {
        "id": "-bp2GFP6gcBQ"
      },
      "source": [
        "# Introduction\n",
        "Based on [this paper](https://scholarworks.sjsu.edu/cgi/viewcontent.cgi?article=1699&context=etd_projects), we'll create some dataset to reproduce the result of this paper."
      ]
    },
    {
      "cell_type": "markdown",
      "metadata": {
        "id": "BLIm4pdahrBA"
      },
      "source": [
        "# Text Preprocessing\n",
        "We need only capital letters. So I'll omit all special character and capitalize all latin characters."
      ]
    },
    {
      "cell_type": "code",
      "metadata": {
        "id": "h3nj8dBAeEb6"
      },
      "source": [
        "import re\n",
        "\n",
        "def preprocess(text):\n",
        "  text = re.sub(r\"[^A-Za-z]+\", '', text)\n",
        "  text = text.upper()\n",
        "  return text"
      ],
      "execution_count": null,
      "outputs": []
    },
    {
      "cell_type": "code",
      "metadata": {
        "id": "_M-N35-kU3mC",
        "outputId": "4577562e-8c14-4100-b7bc-bfad883d696b",
        "colab": {
          "base_uri": "https://localhost:8080/",
          "height": 35
        }
      },
      "source": [
        "# try this function\n",
        "preprocess(\"dsfsdafe9293Djj22#324\")"
      ],
      "execution_count": null,
      "outputs": [
        {
          "output_type": "execute_result",
          "data": {
            "application/vnd.google.colaboratory.intrinsic+json": {
              "type": "string"
            },
            "text/plain": [
              "'DSFSDAFEDJJ'"
            ]
          },
          "metadata": {
            "tags": []
          },
          "execution_count": 2
        }
      ]
    },
    {
      "cell_type": "markdown",
      "metadata": {
        "id": "RbXxFc8hV6HQ"
      },
      "source": [
        "# Classic Ciphers\n",
        "There're 4 ciphers referred in the paper. We'll implement those cipher algorithms to generate our dataset."
      ]
    },
    {
      "cell_type": "markdown",
      "metadata": {
        "id": "1ux_iZSfXSQb"
      },
      "source": [
        "## Simple Substitution Cipher"
      ]
    },
    {
      "cell_type": "code",
      "metadata": {
        "id": "oqnNj8zHaRxT",
        "outputId": "c4d1c7e1-8d13-49ba-ed30-6f878e5c980e",
        "colab": {
          "base_uri": "https://localhost:8080/",
          "height": 222
        }
      },
      "source": [
        "import random\n",
        "\n",
        "# create a key for our cipher \n",
        "\n",
        "def make_key():\n",
        "  alphabets = \"ABCDEFGHIJKLMNOPQRSTUVWXYZ\"\n",
        "\n",
        "  alphabets = list(alphabets)\n",
        "  random.shuffle(alphabets)\n",
        "  return ''.join(alphabets)\n",
        "\n",
        "key = make_key(alphabets)\n",
        "print(key)"
      ],
      "execution_count": null,
      "outputs": [
        {
          "output_type": "error",
          "ename": "TypeError",
          "evalue": "ignored",
          "traceback": [
            "\u001b[0;31m---------------------------------------------------------------------------\u001b[0m",
            "\u001b[0;31mTypeError\u001b[0m                                 Traceback (most recent call last)",
            "\u001b[0;32m<ipython-input-25-85e89b0b87df>\u001b[0m in \u001b[0;36m<module>\u001b[0;34m()\u001b[0m\n\u001b[1;32m     10\u001b[0m   \u001b[0;32mreturn\u001b[0m \u001b[0;34m''\u001b[0m\u001b[0;34m.\u001b[0m\u001b[0mjoin\u001b[0m\u001b[0;34m(\u001b[0m\u001b[0malphabets\u001b[0m\u001b[0;34m)\u001b[0m\u001b[0;34m\u001b[0m\u001b[0;34m\u001b[0m\u001b[0m\n\u001b[1;32m     11\u001b[0m \u001b[0;34m\u001b[0m\u001b[0m\n\u001b[0;32m---> 12\u001b[0;31m \u001b[0mkey\u001b[0m \u001b[0;34m=\u001b[0m \u001b[0mmake_key\u001b[0m\u001b[0;34m(\u001b[0m\u001b[0malphabets\u001b[0m\u001b[0;34m)\u001b[0m\u001b[0;34m\u001b[0m\u001b[0;34m\u001b[0m\u001b[0m\n\u001b[0m\u001b[1;32m     13\u001b[0m \u001b[0mprint\u001b[0m\u001b[0;34m(\u001b[0m\u001b[0mkey\u001b[0m\u001b[0;34m)\u001b[0m\u001b[0;34m\u001b[0m\u001b[0;34m\u001b[0m\u001b[0m\n",
            "\u001b[0;31mTypeError\u001b[0m: make_key() takes 0 positional arguments but 1 was given"
          ]
        }
      ]
    },
    {
      "cell_type": "code",
      "metadata": {
        "id": "kYL9gQ9XVb2X",
        "outputId": "58797564-9da6-4b09-c3f8-e91289afefba",
        "colab": {
          "base_uri": "https://localhost:8080/"
        }
      },
      "source": [
        "def substitution_encrypt(plaintext, key):\n",
        "  keymap = dict(zip(alphabets,key))\n",
        "  return ''.join(keymap.get(c) for c in plaintext)\n",
        "\n",
        "def substitution_decrypt(cipher, key):\n",
        "  keymap = dict(zip(key,alphabets))\n",
        "  return ''.join(keymap.get(c) for c in cipher)\n",
        "\n",
        "cipher = substitution_encrypt(\"HELLO\", key)\n",
        "print(cipher)\n",
        "print(substitution_decrypt(cipher, key))"
      ],
      "execution_count": null,
      "outputs": [
        {
          "output_type": "stream",
          "text": [
            "REZZL\n",
            "HELLO\n"
          ],
          "name": "stdout"
        }
      ]
    },
    {
      "cell_type": "markdown",
      "metadata": {
        "id": "JlhFnEkyF-u8"
      },
      "source": [
        "## Vigenère Cipher"
      ]
    },
    {
      "cell_type": "code",
      "metadata": {
        "id": "buPiAwppMMPF"
      },
      "source": [
        "text = \"HELLOMOTOHELLOMOTOHELLO\""
      ],
      "execution_count": null,
      "outputs": []
    },
    {
      "cell_type": "code",
      "metadata": {
        "id": "eBNUSDJaAohX"
      },
      "source": [
        "# create a cyclic key\n",
        "def make_cyclic_key(text, key):\n",
        "    key = list(key) \n",
        "    if len(text) == len(key): \n",
        "        return(key) \n",
        "    else: \n",
        "        for i in range(len(text) - \n",
        "                       len(key)): \n",
        "            key.append(key[i % len(key)]) \n",
        "    return \"\" . join(key) "
      ],
      "execution_count": null,
      "outputs": []
    },
    {
      "cell_type": "code",
      "metadata": {
        "id": "dhkTR9LUMq2m",
        "outputId": "a245fef1-cf4e-44a2-db67-72f28800dfde",
        "colab": {
          "base_uri": "https://localhost:8080/"
        }
      },
      "source": [
        "def vigenere_encrypt(plaintext, key):\n",
        "\n",
        "  key = make_cyclic_key(plaintext, key)\n",
        "\n",
        "  cipher = []\n",
        "  for i in range(len(plaintext)):\n",
        "    x = (ord(plaintext[i]) + ord(key[i])) % 26\n",
        "    x += ord('A') \n",
        "    cipher.append(chr(x)) \n",
        "  return \"\".join(cipher)\n",
        "\n",
        "cipher = vigenere_encrypt(text, \"MOTTT\")\n",
        "print(cipher)"
      ],
      "execution_count": null,
      "outputs": [
        {
          "output_type": "stream",
          "text": [
            "TSEEHYCMHAQZEHFAHHAXXZH\n"
          ],
          "name": "stdout"
        }
      ]
    },
    {
      "cell_type": "markdown",
      "metadata": {
        "id": "9jvPoqewt0x0"
      },
      "source": [
        "## Column Transposition Cipher\n"
      ]
    },
    {
      "cell_type": "code",
      "metadata": {
        "id": "PiLNtCAes0Gq",
        "outputId": "ab2a1fd3-cd81-4507-bd43-46e41cd6833a",
        "colab": {
          "base_uri": "https://localhost:8080/"
        }
      },
      "source": [
        "import math\n",
        "\n",
        "def split_len(seq, length):\n",
        "    return [seq[i:i + length] for i in range(0, len(seq), length)]\n",
        "\n",
        "def column_transpostion_encrypt(plaintext, key):\n",
        "\n",
        "    order = {\n",
        "        int(val): num for num, val in enumerate(key)\n",
        "    }\n",
        "\n",
        "    ciphertext = ''\n",
        "    for index in sorted(order.keys()):\n",
        "        for part in split_len(plaintext, len(key)):\n",
        "            try:\n",
        "                ciphertext += part[order[index]]\n",
        "            except IndexError:\n",
        "                continue\n",
        "\n",
        "    return ciphertext\n",
        "\n",
        "print(column_transpostion_encrypt('IHAVETWOCATSANDTHREEDOGSANDFIVEPARROTS', '3214'))"
      ],
      "execution_count": null,
      "outputs": [
        {
          "output_type": "stream",
          "text": [
            "AWTDEGDERHTANRONVRSIECAHDAIATVOSTESFPO\n"
          ],
          "name": "stdout"
        }
      ]
    },
    {
      "cell_type": "markdown",
      "metadata": {
        "id": "apFeUOxiFRJM"
      },
      "source": [
        "## Playfair Cipher"
      ]
    },
    {
      "cell_type": "code",
      "metadata": {
        "id": "U0-MHa28-9Ag",
        "outputId": "4fa1db98-bf19-42a5-8692-c1702349aa10",
        "colab": {
          "base_uri": "https://localhost:8080/"
        }
      },
      "source": [
        "def matrix(key):\n",
        "\tmatrix=[]\n",
        "\tfor e in key.upper():\n",
        "\t\tif e not in matrix:\n",
        "\t\t\tmatrix.append(e)\n",
        "\talphabet=\"ABCDEFGHIKLMNOPQRSTUVWXYZ\"\n",
        "\t\n",
        "\tfor e in alphabet:\n",
        "\t\tif e not in matrix:\n",
        "\t\t\tmatrix.append(e)\t\n",
        "\t\n",
        "\t#initialize a new list. Is there any elegant way to do that?\n",
        "\tmatrix_group=[]\n",
        "\tfor e in range(5):\n",
        "\t\tmatrix_group.append('')\n",
        "\n",
        "\t#Break it into 5*5\n",
        "\tmatrix_group[0]=matrix[0:5]\n",
        "\tmatrix_group[1]=matrix[5:10]\n",
        "\tmatrix_group[2]=matrix[10:15]\n",
        "\tmatrix_group[3]=matrix[15:20]\n",
        "\tmatrix_group[4]=matrix[20:25]\n",
        "\treturn matrix_group\n",
        "\n",
        "def message_to_digraphs(message_original):\n",
        "\n",
        "\tmessage=[]\n",
        "\tfor e in message_original:\n",
        "\t\tmessage.append(e)\n",
        "\n",
        "\tfor unused in range(len(message)):\n",
        "\t\tif \" \" in message:\n",
        "\t\t\tmessage.remove(\" \")\n",
        "\n",
        "\ti=0\n",
        "\tfor e in range(int(len(message)/2)):\n",
        "\t\tif message[i]==message[i+1]:\n",
        "\t\t\tmessage.insert(i+1,'X')\n",
        "\t\ti=i+2\n",
        "\n",
        "\tif len(message)%2==1:\n",
        "\t\tmessage.append(\"X\")\n",
        "\t\n",
        "\ti=0\n",
        "\tnew=[]\n",
        "\tfor x in range(1,int(len(message)/2+1)):\n",
        "\t\tnew.append(message[i:i+2])\n",
        "\t\ti=i+2\n",
        "\treturn new\n",
        "\n",
        "def find_position(key_matrix,letter):\n",
        "\tx=y=0\n",
        "\tfor i in range(5):\n",
        "\t\tfor j in range(5):\n",
        "\t\t\tif key_matrix[i][j]==letter:\n",
        "\t\t\t\tx=i\n",
        "\t\t\t\ty=j\n",
        "\n",
        "\treturn x,y\n",
        "\n",
        "def playfair_encrypt(message, key):\n",
        "\t\n",
        "\tmessage=message_to_digraphs(message)\n",
        "\tkey_matrix=matrix(key)\n",
        "\tcipher=[]\n",
        "\tfor e in message:\n",
        "\t\tp1,q1=find_position(key_matrix,e[0])\n",
        "\t\tp2,q2=find_position(key_matrix,e[1])\n",
        "\t\tif p1==p2:\n",
        "\t\t\tif q1==4:\n",
        "\t\t\t\tq1=-1\n",
        "\t\t\tif q2==4:\n",
        "\t\t\t\tq2=-1\n",
        "\t\t\tcipher.append(key_matrix[p1][q1+1])\n",
        "\t\t\tcipher.append(key_matrix[p1][q2+1])\t\t\n",
        "\t\telif q1==q2:\n",
        "\t\t\tif p1==4:\n",
        "\t\t\t\tp1=-1;\n",
        "\t\t\tif p2==4:\n",
        "\t\t\t\tp2=-1;\n",
        "\t\t\tcipher.append(key_matrix[p1+1][q1])\n",
        "\t\t\tcipher.append(key_matrix[p2+1][q2])\n",
        "\t\telse:\n",
        "\t\t\tcipher.append(key_matrix[p1][q2])\n",
        "\t\t\tcipher.append(key_matrix[p2][q1])\n",
        "\treturn \"\".join(cipher)\n",
        "\n",
        "print(playfair_encrypt(\"HELLOMOTOTHATISNOTGOOD\",\"BALCLA\"))"
      ],
      "execution_count": null,
      "outputs": [
        {
          "output_type": "stream",
          "text": [
            "IFGLCNNPYTYOCRGUOPSHNYPC\n"
          ],
          "name": "stdout"
        }
      ]
    },
    {
      "cell_type": "markdown",
      "metadata": {
        "id": "ECixrS5NIG3u"
      },
      "source": [
        "# Dataset Generator\n",
        "After we've all algorithms. We're going to generate our dataset. From the paper we need about 1000 texts in 4 categories. Texts will have a length of 10 to 1000.\n"
      ]
    },
    {
      "cell_type": "code",
      "metadata": {
        "id": "B-GhlVoZp-Ms",
        "outputId": "ff51d93c-3d80-4914-81c1-1d1b711ceeda",
        "colab": {
          "base_uri": "https://localhost:8080/"
        }
      },
      "source": [
        "# prepare the plaintexts\n",
        "%cd /content/drive/My Drive/Kaggle/cipher_text_challenge"
      ],
      "execution_count": null,
      "outputs": [
        {
          "output_type": "stream",
          "text": [
            "/content/drive/My Drive/Kaggle/cipher_text_challenge\n"
          ],
          "name": "stdout"
        }
      ]
    },
    {
      "cell_type": "code",
      "metadata": {
        "id": "ExU1WiykahzO",
        "outputId": "1ae0183f-504d-4686-f72f-e118310f664e",
        "colab": {
          "base_uri": "https://localhost:8080/"
        }
      },
      "source": [
        "%ls"
      ],
      "execution_count": null,
      "outputs": [
        {
          "output_type": "stream",
          "text": [
            "sample_submission.csv  test.csv  training.csv\n"
          ],
          "name": "stdout"
        }
      ]
    },
    {
      "cell_type": "code",
      "metadata": {
        "id": "sKSk1BHshUWb",
        "outputId": "a87fe1a4-97b1-46f3-d21c-8f07900bf179",
        "colab": {
          "base_uri": "https://localhost:8080/",
          "height": 206
        }
      },
      "source": [
        "import pandas as pd\n",
        "\n",
        "text_dataset = pd.read_csv(\"training.csv\")\n",
        "text_dataset.head()"
      ],
      "execution_count": null,
      "outputs": [
        {
          "output_type": "execute_result",
          "data": {
            "text/html": [
              "<div>\n",
              "<style scoped>\n",
              "    .dataframe tbody tr th:only-of-type {\n",
              "        vertical-align: middle;\n",
              "    }\n",
              "\n",
              "    .dataframe tbody tr th {\n",
              "        vertical-align: top;\n",
              "    }\n",
              "\n",
              "    .dataframe thead th {\n",
              "        text-align: right;\n",
              "    }\n",
              "</style>\n",
              "<table border=\"1\" class=\"dataframe\">\n",
              "  <thead>\n",
              "    <tr style=\"text-align: right;\">\n",
              "      <th></th>\n",
              "      <th>plaintext_id</th>\n",
              "      <th>text</th>\n",
              "      <th>index</th>\n",
              "    </tr>\n",
              "  </thead>\n",
              "  <tbody>\n",
              "    <tr>\n",
              "      <th>0</th>\n",
              "      <td>ID_2ed3c75e8</td>\n",
              "      <td>Saying Bambi 2 is better than the original is ...</td>\n",
              "      <td>1228</td>\n",
              "    </tr>\n",
              "    <tr>\n",
              "      <th>1</th>\n",
              "      <td>ID_d51637e35</td>\n",
              "      <td>I detest slapstick and even as a child I could...</td>\n",
              "      <td>22903</td>\n",
              "    </tr>\n",
              "    <tr>\n",
              "      <th>2</th>\n",
              "      <td>ID_096b6847e</td>\n",
              "      <td>If you want to see a movie about things that w...</td>\n",
              "      <td>44844</td>\n",
              "    </tr>\n",
              "    <tr>\n",
              "      <th>3</th>\n",
              "      <td>ID_3f2297975</td>\n",
              "      <td>The Flesh and the Fiends, also known as Mania,...</td>\n",
              "      <td>10556</td>\n",
              "    </tr>\n",
              "    <tr>\n",
              "      <th>4</th>\n",
              "      <td>ID_9431252bd</td>\n",
              "      <td>I am at a loss of words after watching this on...</td>\n",
              "      <td>18562</td>\n",
              "    </tr>\n",
              "  </tbody>\n",
              "</table>\n",
              "</div>"
            ],
            "text/plain": [
              "   plaintext_id                                               text  index\n",
              "0  ID_2ed3c75e8  Saying Bambi 2 is better than the original is ...   1228\n",
              "1  ID_d51637e35  I detest slapstick and even as a child I could...  22903\n",
              "2  ID_096b6847e  If you want to see a movie about things that w...  44844\n",
              "3  ID_3f2297975  The Flesh and the Fiends, also known as Mania,...  10556\n",
              "4  ID_9431252bd  I am at a loss of words after watching this on...  18562"
            ]
          },
          "metadata": {
            "tags": []
          },
          "execution_count": 15
        }
      ]
    },
    {
      "cell_type": "code",
      "metadata": {
        "id": "QlR3dLtNhdQR",
        "outputId": "2d4c137d-5b2c-4aae-b314-b116f0d0357d",
        "colab": {
          "base_uri": "https://localhost:8080/"
        }
      },
      "source": [
        " # we need only text\n",
        "texts = text_dataset[\"text\"]\n",
        "texts.head()"
      ],
      "execution_count": null,
      "outputs": [
        {
          "output_type": "execute_result",
          "data": {
            "text/plain": [
              "0    Saying Bambi 2 is better than the original is ...\n",
              "1    I detest slapstick and even as a child I could...\n",
              "2    If you want to see a movie about things that w...\n",
              "3    The Flesh and the Fiends, also known as Mania,...\n",
              "4    I am at a loss of words after watching this on...\n",
              "Name: text, dtype: object"
            ]
          },
          "metadata": {
            "tags": []
          },
          "execution_count": 16
        }
      ]
    },
    {
      "cell_type": "code",
      "metadata": {
        "id": "Y4knUPYFjXjw",
        "outputId": "750bf0f0-dc8c-410e-f9b1-99f3b46e3bee",
        "colab": {
          "base_uri": "https://localhost:8080/"
        }
      },
      "source": [
        "texts.size"
      ],
      "execution_count": null,
      "outputs": [
        {
          "output_type": "execute_result",
          "data": {
            "text/plain": [
              "44682"
            ]
          },
          "metadata": {
            "tags": []
          },
          "execution_count": 17
        }
      ]
    },
    {
      "cell_type": "code",
      "metadata": {
        "id": "p4bgQfsojbuR",
        "outputId": "1d063291-1ada-436a-91f4-3f16881a54ed",
        "colab": {
          "base_uri": "https://localhost:8080/"
        }
      },
      "source": [
        "# preprocess text\n",
        "preprocessed = []\n",
        "for i in texts:\n",
        "  preprocessed.append(preprocess(i))\n",
        "\n",
        "print(preprocessed[0:10])"
      ],
      "execution_count": null,
      "outputs": [
        {
          "output_type": "stream",
          "text": [
            "['SAYINGBAMBIISBETTERTHANTHEORIGINALISACOMPLETEUNDERSTATEMENTTHEFILMISPERFECTONEVERYLEVELOFFILMMAKINGITSANINTOXICATINGFEELINGWHENAMOVIEEXCITESANDENLIVENSUSLIKETHISANDTHERESAPARTICULARGIDDINESSTOBEHADINTHINKINGABOUTWHATMOVIESCANBUTDONTOFTENDOFORONESSOULAFTERIMBIBINGSUCHAFINEVINTAGEHONESTLYITISAMAZINGAMUSTSEEFILMDISTURBINGBRILLIANTFANTASTICTHEFILMSSCREENPLAYISAMAZINGFANTASTICWRITINGUNPREDICTABLESERIOUSLYDIDNTKNOWWHATTOEXPECTNEXTTHEVOICEWORKICONSIDERTOBEOSCARWORTHYACTINGACOMPLETEMASTERPIECE', 'IDETESTSLAPSTICKANDEVENASACHILDICOULDNEVERUNDERSTANDWHYANAUDIENCELAUGHEDWHENPEOPLEGOTPOKEDINTHEEYETHEUNSPEAKABLETHREESTOOGESFELLDOWNTHEMAWKISHTIRESOMECHARLIECHAPLINORRANINTOANDDESTROYEDTHINGSTHEINEFFABLERITZBROTHERSTHISISTHEONLYMOVIEIHAVEEVERSEENINMYLIFEWHEREINOTONLYTHOUGHTTHESLAPSTICKWASHILARIOUSTRYINGTOIMPRESSTHEBLINDDATEBUTITMADEMELAUGHOUTLOUDSOMETHINGIDONTTHINKIVEDONEMORETHANTWOORTHREETIMESINWATCHINGAMOVIETHISISCOMICPERFECTIONFROMBEGINNINGTOENDANDNOTEVENTHEDISMALDISLIKABLEANNOYINGDIANEKEATONWHATISITTHATISSOOFFPUTTINGABOUTHERCOULDHURTITALLENINADDITIONTOHISMANYOTHERTALENTSISABRILLIANTACTORCOMEDIANHISCHARACTERIZATIONSARESOGOODASTOTRANSCENDACTINGITISASIFONEWEREWATCHINGHIMBEINGSECRETLYPHOTOGRAPHEDFROMREALLIFEIDONTKNOWANOTHERMOVIEACTORICANSAYTHATABOUT', 'IFYOUWANTTOSEEAMOVIEABOUTTHINGSTHATWILLHAPPENWHENYOUSTOPTAKINGYOURMEDICATIONTHENTHISISAMOVIETOSEEIGUESSIFYOUTHINKWAYINTOTHINGSITISACREEPYMOVIEBUTJUSTWATCHINGITITSNOTTHATBADISAWITATTHENUARTINLAANDIREALLYCOULDHAVEWAITEDTHECINEMATOGRAPHYWASINTERESTINGANDTHECAMERAWASREALLYSHAKYATTIMESHOWEVERDUETOTHEFACTTHATITWASFILMEDINDAYSIDOGIVETHEMPROPSONEMORETHINGTHEMOVIETENDSTODROPFOCUSPOINTSANDHASMINIMALDIALOGUE', 'THEFLESHANDTHEFIENDSALSOKNOWNASMANIAISONEOFTHOSEPLEASANTSURPRISESITISAVERYGOODFILMWITHEXCELLENTACTINGATHOROUGHTHOUGHTPROVOKINGSCRIPTSUSPENSEFULDIRECTIONANDQUITEAJARRINGALMOSTTWISTEDPERVERTEDMOODIWASGENUINELYSURPRISEDJUSTHOWGOODTHISFILMWASBECAUSEIHADHEARDSOLITTLEABOUTITBUTICANHONESTLYSAYTHATIFOUNDITAHIGHLYENJOYABLEDISTURBINGHORRIFICFILMWHERETOBEGINLETSSTARTFIRSTWITHTHESTORYTHESTORYCOVERSOLDGROUNDHERETHEBODYSNATCHERWITHBORISKARLOFFFORINSTANCEPRECURSESTHISABOUTTHOSETWOINFAMOUSBODYSNATCHERSOFSCOTLANDBURKEANDHAREANDTHEDOCTORWHONEEDSDEADBODIESTOHELPFINDCURESFORTHESICKDRKNOXTHISFILMISPRETTYFAITHFULTOTHOSESTORIESWHATREALLYHELPSTHISCOMEALIVEISTHREECHARACTERIZATIONSDONEBYTHREEHIGHLYGIFTEDACTORSPETERCUSHINGDONALDPLEASANCEANDGEORGEROSEROSEPLAYSBURKEANDPLEASANCEPLAYSHAREANDIDONOTTHINKIHAVESEENTWOMENPLAYSUCHVILEDEGENERATEMENASWELLASTHESETWODOTHEYBOTHOOZEOILANDSHEDSCALESWITHTHEIRPORTRAYALSOFHEARTLESSCOLDIGNORANTMENWHODONTWANTTOWORKANDFINDTHATTHEREISEASYMONEYINGRAVEROBBINGSOONTHEYFINDITISEVENEASIERTOJUSTKILLTHENDIGUPBODIESINFACTTHEYDONOTDIGUPONEBODYINTHISFILMROSEISSNAGGLETOOTHEDANDHASAREALWEIRDTWITCHINGLAUGHHEISJUSTPLAINREPULSIVEANDTHISISONEOFHISFINESTCHARACTERIZATIONSINFILMTHESAMECANBESAIDFORPLEASANCEWHOALSOPLAYSABADMANWITHSUCHCONVICTIONBOTHHEANDROSEFITLIKEGLOVESTOGETHERBUTASGOODASTHESETWOARETHEREALSTAROFTHEFILMISTHATWONDERFULUNDERAPPRECIATEDBRITISHSCREENSTALWARTPETERCUSHINGWHOMAKESCOLDSTOICISMSEEMSOEASYCUSHINGPLAYSDRKNOXASAHEARTLESSMANONLYCONCERNEDWITHSCIENCEANDWHONEVERREALLYWANTSTOTHINKABOUTWHERETHESEBODIESTHATHEPAYSFORCOMEFROMCUSHINGPLAYSTHEROLETOTHEHILTINSEVERALSCENESMYFAVORITEISWHEREHEARGUESWITHCOLLEAGUESABOUTTHEIRMEDICALSHORTCOMINGSSAYINGINCLINEYOURHEADSTOTHERIGHTGENTLEMENTHEREYOUWILLFINDTHEDOORISUGGESTYOUUSEITILOVEHISABILITYTOBESOARROGANTANDYETSOWITTYANDCONVINCINGCUSHINGEVENGOESTHROUGHSOMEKINDOFACATHARSISINTHISFILMWHICHHEDOESASONLYHECANDIRECTORJOHNGILLINGAGREATHAMMERFILMDIRECTORSHOWSUSWHYHEWASTOMAKESUCHGOODFILMSASPLAGUEOFTHEZOMBIESHEISVERYSUREBEHINDTHELENSANDKNOWSHOWTOPACEANDCREATESUSPENSEFULSCENESMANIAISAVERYGOODFILMTHATDESPITEITSABOVEAVERAGEACTINGANDDIRECTINGSHOULDMAKEYOUTHINKABITABOUTSEVERALPHILOSOPHICALMORALETHICALQUESTIONSQUESTIONSTHATMAYHAVECHANGEDSHAPETODAYBUTSTILLEXISTINSOMEFORM', 'IAMATALOSSOFWORDSAFTERWATCHINGTHISONEWHICHISMORETHANAFILMITISANEXPERIENCETHEREFORETHEONLYWORDSINWHICHTHISMASTERPIECECANBEDESCRIBEDAREADJECTIVESMINDBLOWINGSHOCKINGGREATINNARRATIVEANDSTYLESIMPLEANDSUBTLEPOIGNANTBRILLIANTEXPOSITIONHEREISFINALLYAMOVIETHATSHOCKSYOUSURPRISESYOUQUESTIONSYOUSLAPSYOUMAKEYOUCRYSHOWSYOUAMIRRORTOSUMUPEVOKESTRONGRESPONSESTHEFILMFINALLYSUCCEEDSINSPEAKINGAUNIVERSALLANGUAGEHERENOSIDESARETAKENBUTJUSTROOTSYOUTOTHEMIDDLEOFTHEPREMISEITTOUCHEDTHEEPICPROPORTIONSOFEARLIERMASTERPIECESGARAMHAWAANDTAMASBASEDONPARTITIONISSUESTHOUGHANINFLUENCEOFIRANIANNEWWAVECINEMAISSEENONFILMMAKERSABIHASUMERYETITISANORIGINALPIECEASUPERIORPRODUCTATOUCHINGTALEACLASSICWORLDCINEMAINDEEDJINHENAAZHAIBLACKPARWOKAHANHAIN', 'MYDADANDIWEREATTHELOCALVIDEOSTORETRYINGTOFINDSOMETHINGTORENTWHENWESAWTHISTHECOVERMADETHEMOVIELOOKFAIRLYCREEPYANDTHECOMMENTONTHEBACKTHEMOSTTERRIFYINGMOVIESINCETHESHININGPROBABLYBYTHEDIRECTORSMOMMADEITLOOKLIKEADECENTMOVIEWEWEREWRONGTHISISTHEWORSTMOVIEIHAVEEVERSEENANDIVESEENALOTOFMOVIESTHEACTINGISHORRIBLETHECAMERAQUALITYISEQUALLYTERRIBLEANDIMSTILLNOTSUREIFIEVENFULLYUNDERSTANDTHEPLOTBUTMANWASTHISMOVIEENTERTAININGILOVEBADHORRORMOVIESBUTTHISONETAKESTHECAKEITWASHYSTERICALWEVEGOTAHOMELESSGUYFLIPPINGTHEBIRDFORMINUTESTHATHADTOBEMYFAVORITEPARTWEHAVEANOLDLADYWHOAPPARENTLYFORGETSTOWASHBLOODSTAINEDBEDSHEETSANDLEAVESTHEMINTHEHOTELROOMSMYDADANDIWERELITERALLYINTEARSTHROUGHOUTTHEWHOLEMOVIEIWOULDONLYRECOMMENDTHISIFYOUREAFANOFCRAPPYHORRORMOVIESTHATYOUCANLAUGHATIFNOTTHENTHISFILMWOULDBEAHUGEWASTEOFYOURTIMEANDMONEY', 'ISAWTHEHARVARDMANINFRANCESOBYTHETIMEITREACHESTHEUSTHEMOVIEMAYBECOMPLETELYDISMANTLEDANDREWORKEDBUTIDOUBTTHATSUCHREPAIRSCOULDRESCUETHEFILMFROMTHEWRECKAGEISAWTHEPLOTISUNINTERESTINGNOTTOMENTIONFARFETCHEDTEAMINGPOORLYDEVELOPEDCHARACTERSAGAINSTONEANOTHERINAWANTTOBETEENAGECOMEDYTHRILLERMYSTERYMUSICVIDEOTHEACTINGISSTILTEDANDACHINGLYFORCEDWHICHISWHATWEVECOMETOEXPECTFROMTHEAVERAGEERICSTOLTZSARAHMICHELLEGELLARANDADRIANGRENIERDIRECTORJAMESTOBACKDOESTRYTOMAKETHEMOVIEVISUALLYINTERESTINGBUTITSEXCESSESRESULTINOVERSTIMULATIONTHATISHYPERACTIVEANDANNOYING', 'BAMBIISONEOFTHOSERARECASESWHICHONECANPOSSIBLYSAYTHATATLEASTTHEYTRIEDTOCREATEASEQUELASGOODASTHEORIGINALDESPITETHEFACTTHATTHEORIGINALISAFARSUPERIORFILMTHISONEATLEASTTRIEDTOBEATTHESAMELEVELINMANYWAYSEVENIFTHISAIMWASNTFULLYACHIEVEDUNLIKEMOSTDISNEYSEQUELSTHISONEHASGREATARTWORKINFACTTHEARTWORKOFTHISONEISVERYSIMILARTOTHEARTWORKOFTHEORIGINALBAMBITHEDIFFERENCEISTHATINTHEORIGINALTHEARTWORKISMOREREFINEDWHILETHISONECOMBINESTHEFABULOUSARTWORKOFTHEORIGINALWITHCOMPUTERDIGITALTECHNIQUESANDTECHNOLOGIESPATRICKSTEWARTDESERVESRECOGNITIONFORHISWORKASTHEGREATPRINCEOFTHEFORESTSVOICEHEDOESAVERYGOODVOICEBYREPLACINGTHEORIGINALVOICEACTOROFTHISCHARACTERTHISSEQUELFOCUSMOSTLYONBAMBIANDTHERELATIONSHIPWITHHISFATHERSOMETHINGCLEARLYMISSINGONTHEORIGINALBAMBISFATHERTAKESCAREOFHIMNOWAFTERTHEDEATHOFBAMBISMOTHERNOTONLYWEGETTOKNOWTHERELATIONSHIPBETWEENBAMBIANDHISFATHERBUTALSOTOKNOWHISFATHERBETTERWEALSOGETTOKNOWRONNOWHENHEWASLITTLEHOWEVERALTHOUGHBAMBIISQUITEBETTERANDMORELOGICALTHANMOSTDISNEYSEQUELSITSUFFERSFROMTHESAMESYNDROMEOFTHERESTOFDISNEYSEQUELSITDOESNTFITWELLONTHEFIRSTONESSTORYTHETIMEWHENTHISTAKESPLACEMAKESONEWONDERANDTOMAKETHISQUESTIONEVENMOREDIFFICULTTHEREARETHINGSTHATDONOTMAKESENSEWHENWELOOKATTHEWAYHOWTHINGSHAPPENINTHEORIGINAL', 'THISMOVIEINITSATTEMPTTOBECLEVERENDSUPBEINGJUSTPLAINIGNORANTITHASABSOLUTELYNOTHINGWHATSOEVERTODOWITHTHEORIGINALANDASFANTASTICASWASTHEORIGINALTHISDETESTABLESEQUELISJUSTTHATBADFOURYEARSLATERWHATDOESSHEREMEMBERAPPARENTLYWHATSHEDOESNOTREMEMBERARETHOSEACTINGLESSONSIHIGHLYSUGGESTTHATYOUWATCHTHEEXORCISTTHEDIRECTORSCUTSKIPTHISONEANDMOVERIGHTONTOEXORCISTYOUWONTEVENBEABLETOTELLYOUVELEFTPARTOUTOFTHECYCLETHATSHOWINSIGNIFICANTITISITSREALLYTHEWORSTSEQUELTOANYFRANCHISEEVENCONSIDERINGBATMANFOREVERANDPETSEMETERYJUSTWATCHEXORCISTTHEBEGINNINGEXORCISTANDEXORCISTYOUWONTEVENMISSEXORCISTEDITIHAVETOSAYTHATWITHTHEADDITIONOFTHETWOPREQUELSTHISINSTALLMENTMAKESMUCHMORESENSENOWITDOESNOWHAVEAPLACEINTHERUNANDSHOULDBEVIEWEDBYFRANCHISEFANSASAMORENECESSARYCHAPTEROFTHEEXORCISTSTORYIDGIVEITANOWITRATESAFROMTHEFIEND', 'STARRATINGTHEWORKSJUSTMISSESTHEMARKTHATLITTLEBITINBETWEENLAGGINGBEHINDTHEPITSKARLTHOMMASSONTREATWILLIAMSRETURNSTOTEACHATATOUGHSCHOOLAFTERASTINTINKOSOVOTOHONOURAPROMISETOAFALLENCOMRADEINTHATWARINTHESHAPEOFTAKINGCAREOFHISTEACHERDAUGHTERHEDISCOVERSADRUGRACKETEERINGRINGOPERATINGINTHESCHOOLANDMUSTSTOPITFORTHWITHINAROLEORIGINALLYWRITTENFORTOMBERENGERTREATWILLIAMSHERERETURNSAFTERAPPEARINGINTHEFIRSTSEQUELHEDOESHAVEAGOODPRESENCEASANACTIONHEROVERYSTEVENSEAGALBUTSADLYHEISNOTENOUGHTOSTOPTHISDREARYSEQUELFROMEMERGINGASASADREHASHOFTHELASTONECOMPLETEWITHINCONSISTENTVILLAINSANDARATHERSURPRISINGLACKOFACTIONWITHTHISONEBEHINDITIDONTHOLDOUTMUCHHOPEFORPART']\n"
          ],
          "name": "stdout"
        }
      ]
    },
    {
      "cell_type": "markdown",
      "metadata": {
        "id": "u1iUL-1lnACm"
      },
      "source": [
        "## Let's encrypt our plaintext\n",
        "We'll divide our texts to each classes equally.\n",
        "\n",
        "Classes\n",
        "1.   substitution (0)\n",
        "2.   Vigenere (1)\n",
        "3. column transposition (2)\n",
        "4. playfair (3)\n",
        "\n"
      ]
    },
    {
      "cell_type": "code",
      "metadata": {
        "id": "8lhJVHUWliWr",
        "outputId": "6e03a9bf-40df-4dd7-9439-1d3c082c30f6",
        "colab": {
          "base_uri": "https://localhost:8080/"
        }
      },
      "source": [
        "# a size of dataset in each class\n",
        "class_size = int(texts.size / 4)\n",
        "print(class_size)"
      ],
      "execution_count": null,
      "outputs": [
        {
          "output_type": "stream",
          "text": [
            "11170\n"
          ],
          "name": "stdout"
        }
      ]
    },
    {
      "cell_type": "code",
      "metadata": {
        "id": "n8PsUFSD0TKx"
      },
      "source": [
        "# shuffle our texts\n",
        "random.shuffle(preprocessed)"
      ],
      "execution_count": null,
      "outputs": []
    },
    {
      "cell_type": "code",
      "metadata": {
        "id": "UErCJBRDAZ6a"
      },
      "source": [
        "# divide to 4 class\n",
        "class_0 = preprocessed[0:class_size]\n",
        "class_1 = preprocessed[class_size:2*class_size]\n",
        "class_2 = preprocessed[2*class_size:3*class_size]\n",
        "class_3 = preprocessed[3*class_size:]\n",
        "\n",
        "# throw these texts into encryption algo\n",
        "encrypted_class_0 = [substitution_encrypt(i, make_key()) for i in class_0]\n",
        "encrypted_class_1 = [vigenere_encrypt(i,\"HELLO\") for i in class_1]\n",
        "encrypted_class_2 = [column_transpostion_encrypt(i,'3214') for i in class_2]\n",
        "encrypted_class_3 = [playfair_encrypt(i,\"BALCLA\") for i in class_3]"
      ],
      "execution_count": null,
      "outputs": []
    },
    {
      "cell_type": "markdown",
      "metadata": {
        "id": "4bvMdLqp5xTM"
      },
      "source": [
        "## Create a dataframe for our dataset"
      ]
    },
    {
      "cell_type": "code",
      "metadata": {
        "id": "3gyj5uSg5ssP"
      },
      "source": [
        "df0 = pd.DataFrame((list(zip(class_0, encrypted_class_0, [0]*len(class_0)))), columns=[\"plaintext\", \"cipher\", \"class\"])\n",
        "df1 = pd.DataFrame((list(zip(class_1, encrypted_class_1, [1]*len(class_1)))), columns=[\"plaintext\", \"cipher\", \"class\"])\n",
        "df2 = pd.DataFrame((list(zip(class_2, encrypted_class_2, [2]*len(class_2)))), columns=[\"plaintext\", \"cipher\", \"class\"])\n",
        "df3 = pd.DataFrame((list(zip(class_3, encrypted_class_3, [3]*len(class_3)))), columns=[\"plaintext\", \"cipher\", \"class\"])"
      ],
      "execution_count": null,
      "outputs": []
    },
    {
      "cell_type": "code",
      "metadata": {
        "id": "oMup_GDK61ct",
        "outputId": "b12b6c22-833a-4769-9542-368d84168ffd",
        "colab": {
          "base_uri": "https://localhost:8080/"
        }
      },
      "source": [
        "# assemble all dataframe of each classes\n",
        "df = pd.concat([df0, df1, df2, df3])\n",
        "print(df)"
      ],
      "execution_count": null,
      "outputs": [
        {
          "output_type": "stream",
          "text": [
            "                                               plaintext  ... class\n",
            "0      IFYOUENJOYACTIONORIENTEDPERIODFILMSANDYOUARENT...  ...     0\n",
            "1      FORMETHISISTHEBESTROLEOFHACKMANSCAREERANDONEOF...  ...     0\n",
            "2      THISMOVIEWASPRETTYDARNAWFULBROOKESHIELDSACTING...  ...     0\n",
            "3      GIRLSHYFINDSHAROLDLLOYDEXACTLYTHATAPOORKIDWHOW...  ...     0\n",
            "4      INAYEARTHATGAVEUSFORRESTGUMPPULPFICTIONANDTHES...  ...     0\n",
            "...                                                  ...  ...   ...\n",
            "11167  WHENIHADFIRSTHEARDABOUTTHISMOVIEAROUNDABOUTLAS...  ...     3\n",
            "11168  TWOQUESTIONSARISEWHENWATCHINGAFILMMIXINGTHESEG...  ...     3\n",
            "11169  THISISNOTAMOVIEFOREVERYONEESPECIALLYWITHTHEPRO...  ...     3\n",
            "11170  INTRIGINGLYCONVOLUTEDANDHAUNTINGLYREFRESHINGTH...  ...     3\n",
            "11171  LOVEMEORLEAVEMEISNOTYOURTYPICALMUSICALTHATISNO...  ...     3\n",
            "\n",
            "[44682 rows x 3 columns]\n"
          ],
          "name": "stdout"
        }
      ]
    },
    {
      "cell_type": "markdown",
      "metadata": {
        "id": "EL413xA48iO3"
      },
      "source": [
        "## Write to a CSV file"
      ]
    },
    {
      "cell_type": "code",
      "metadata": {
        "id": "QIafhOMn8cPC"
      },
      "source": [
        "df.to_csv('classic_cipher_dataset.csv', index=False)"
      ],
      "execution_count": null,
      "outputs": []
    }
  ]
}